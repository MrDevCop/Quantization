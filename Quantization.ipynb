{
  "nbformat": 4,
  "nbformat_minor": 0,
  "metadata": {
    "colab": {
      "name": "Homework 2_Ibrahim Abdurrab_23385.ipynb",
      "provenance": [],
      "authorship_tag": "ABX9TyNS6Z4oD/Du/MFHepgr11Jb",
      "include_colab_link": true
    },
    "kernelspec": {
      "name": "python3",
      "display_name": "Python 3"
    },
    "language_info": {
      "name": "python"
    },
    "accelerator": "GPU",
    "widgets": {
      "application/vnd.jupyter.widget-state+json": {
        "563a1bdf20034087834874955911930c": {
          "model_module": "@jupyter-widgets/controls",
          "model_name": "HBoxModel",
          "state": {
            "_view_name": "HBoxView",
            "_dom_classes": [],
            "_model_name": "HBoxModel",
            "_view_module": "@jupyter-widgets/controls",
            "_model_module_version": "1.5.0",
            "_view_count": null,
            "_view_module_version": "1.5.0",
            "box_style": "",
            "layout": "IPY_MODEL_5d4db3fb423247e3a25079c24b01bddf",
            "_model_module": "@jupyter-widgets/controls",
            "children": [
              "IPY_MODEL_4f5e6a2c64554dffb3d990ce47400b62",
              "IPY_MODEL_44e8d4d40f8b468aa9dcc36f1a832200"
            ]
          }
        },
        "5d4db3fb423247e3a25079c24b01bddf": {
          "model_module": "@jupyter-widgets/base",
          "model_name": "LayoutModel",
          "state": {
            "_view_name": "LayoutView",
            "grid_template_rows": null,
            "right": null,
            "justify_content": null,
            "_view_module": "@jupyter-widgets/base",
            "overflow": null,
            "_model_module_version": "1.2.0",
            "_view_count": null,
            "flex_flow": null,
            "width": null,
            "min_width": null,
            "border": null,
            "align_items": null,
            "bottom": null,
            "_model_module": "@jupyter-widgets/base",
            "top": null,
            "grid_column": null,
            "overflow_y": null,
            "overflow_x": null,
            "grid_auto_flow": null,
            "grid_area": null,
            "grid_template_columns": null,
            "flex": null,
            "_model_name": "LayoutModel",
            "justify_items": null,
            "grid_row": null,
            "max_height": null,
            "align_content": null,
            "visibility": null,
            "align_self": null,
            "height": null,
            "min_height": null,
            "padding": null,
            "grid_auto_rows": null,
            "grid_gap": null,
            "max_width": null,
            "order": null,
            "_view_module_version": "1.2.0",
            "grid_template_areas": null,
            "object_position": null,
            "object_fit": null,
            "grid_auto_columns": null,
            "margin": null,
            "display": null,
            "left": null
          }
        },
        "4f5e6a2c64554dffb3d990ce47400b62": {
          "model_module": "@jupyter-widgets/controls",
          "model_name": "FloatProgressModel",
          "state": {
            "_view_name": "ProgressView",
            "style": "IPY_MODEL_3cbca58d1c574a6f8e604617fa0b0fee",
            "_dom_classes": [],
            "description": "",
            "_model_name": "FloatProgressModel",
            "bar_style": "success",
            "max": 9912422,
            "_view_module": "@jupyter-widgets/controls",
            "_model_module_version": "1.5.0",
            "value": 9912422,
            "_view_count": null,
            "_view_module_version": "1.5.0",
            "orientation": "horizontal",
            "min": 0,
            "description_tooltip": null,
            "_model_module": "@jupyter-widgets/controls",
            "layout": "IPY_MODEL_8973fc9c88d6458886c83234ac358800"
          }
        },
        "44e8d4d40f8b468aa9dcc36f1a832200": {
          "model_module": "@jupyter-widgets/controls",
          "model_name": "HTMLModel",
          "state": {
            "_view_name": "HTMLView",
            "style": "IPY_MODEL_96701b7d220e4b0a8a84c31f3e72bd3f",
            "_dom_classes": [],
            "description": "",
            "_model_name": "HTMLModel",
            "placeholder": "​",
            "_view_module": "@jupyter-widgets/controls",
            "_model_module_version": "1.5.0",
            "value": " 9913344/? [03:59&lt;00:00, 41379.36it/s]",
            "_view_count": null,
            "_view_module_version": "1.5.0",
            "description_tooltip": null,
            "_model_module": "@jupyter-widgets/controls",
            "layout": "IPY_MODEL_0098cbe3accb40d0b55c81312b1d1f10"
          }
        },
        "3cbca58d1c574a6f8e604617fa0b0fee": {
          "model_module": "@jupyter-widgets/controls",
          "model_name": "ProgressStyleModel",
          "state": {
            "_view_name": "StyleView",
            "_model_name": "ProgressStyleModel",
            "description_width": "initial",
            "_view_module": "@jupyter-widgets/base",
            "_model_module_version": "1.5.0",
            "_view_count": null,
            "_view_module_version": "1.2.0",
            "bar_color": null,
            "_model_module": "@jupyter-widgets/controls"
          }
        },
        "8973fc9c88d6458886c83234ac358800": {
          "model_module": "@jupyter-widgets/base",
          "model_name": "LayoutModel",
          "state": {
            "_view_name": "LayoutView",
            "grid_template_rows": null,
            "right": null,
            "justify_content": null,
            "_view_module": "@jupyter-widgets/base",
            "overflow": null,
            "_model_module_version": "1.2.0",
            "_view_count": null,
            "flex_flow": null,
            "width": null,
            "min_width": null,
            "border": null,
            "align_items": null,
            "bottom": null,
            "_model_module": "@jupyter-widgets/base",
            "top": null,
            "grid_column": null,
            "overflow_y": null,
            "overflow_x": null,
            "grid_auto_flow": null,
            "grid_area": null,
            "grid_template_columns": null,
            "flex": null,
            "_model_name": "LayoutModel",
            "justify_items": null,
            "grid_row": null,
            "max_height": null,
            "align_content": null,
            "visibility": null,
            "align_self": null,
            "height": null,
            "min_height": null,
            "padding": null,
            "grid_auto_rows": null,
            "grid_gap": null,
            "max_width": null,
            "order": null,
            "_view_module_version": "1.2.0",
            "grid_template_areas": null,
            "object_position": null,
            "object_fit": null,
            "grid_auto_columns": null,
            "margin": null,
            "display": null,
            "left": null
          }
        },
        "96701b7d220e4b0a8a84c31f3e72bd3f": {
          "model_module": "@jupyter-widgets/controls",
          "model_name": "DescriptionStyleModel",
          "state": {
            "_view_name": "StyleView",
            "_model_name": "DescriptionStyleModel",
            "description_width": "",
            "_view_module": "@jupyter-widgets/base",
            "_model_module_version": "1.5.0",
            "_view_count": null,
            "_view_module_version": "1.2.0",
            "_model_module": "@jupyter-widgets/controls"
          }
        },
        "0098cbe3accb40d0b55c81312b1d1f10": {
          "model_module": "@jupyter-widgets/base",
          "model_name": "LayoutModel",
          "state": {
            "_view_name": "LayoutView",
            "grid_template_rows": null,
            "right": null,
            "justify_content": null,
            "_view_module": "@jupyter-widgets/base",
            "overflow": null,
            "_model_module_version": "1.2.0",
            "_view_count": null,
            "flex_flow": null,
            "width": null,
            "min_width": null,
            "border": null,
            "align_items": null,
            "bottom": null,
            "_model_module": "@jupyter-widgets/base",
            "top": null,
            "grid_column": null,
            "overflow_y": null,
            "overflow_x": null,
            "grid_auto_flow": null,
            "grid_area": null,
            "grid_template_columns": null,
            "flex": null,
            "_model_name": "LayoutModel",
            "justify_items": null,
            "grid_row": null,
            "max_height": null,
            "align_content": null,
            "visibility": null,
            "align_self": null,
            "height": null,
            "min_height": null,
            "padding": null,
            "grid_auto_rows": null,
            "grid_gap": null,
            "max_width": null,
            "order": null,
            "_view_module_version": "1.2.0",
            "grid_template_areas": null,
            "object_position": null,
            "object_fit": null,
            "grid_auto_columns": null,
            "margin": null,
            "display": null,
            "left": null
          }
        },
        "05efc8b7274441279a8a5aa6cf3c6307": {
          "model_module": "@jupyter-widgets/controls",
          "model_name": "HBoxModel",
          "state": {
            "_view_name": "HBoxView",
            "_dom_classes": [],
            "_model_name": "HBoxModel",
            "_view_module": "@jupyter-widgets/controls",
            "_model_module_version": "1.5.0",
            "_view_count": null,
            "_view_module_version": "1.5.0",
            "box_style": "",
            "layout": "IPY_MODEL_e8437f560d594b6a8785507b14347ea7",
            "_model_module": "@jupyter-widgets/controls",
            "children": [
              "IPY_MODEL_ead0e615984d4515a2a55c7e425f955a",
              "IPY_MODEL_22094f2550e047528c391b00e8a02f70"
            ]
          }
        },
        "e8437f560d594b6a8785507b14347ea7": {
          "model_module": "@jupyter-widgets/base",
          "model_name": "LayoutModel",
          "state": {
            "_view_name": "LayoutView",
            "grid_template_rows": null,
            "right": null,
            "justify_content": null,
            "_view_module": "@jupyter-widgets/base",
            "overflow": null,
            "_model_module_version": "1.2.0",
            "_view_count": null,
            "flex_flow": null,
            "width": null,
            "min_width": null,
            "border": null,
            "align_items": null,
            "bottom": null,
            "_model_module": "@jupyter-widgets/base",
            "top": null,
            "grid_column": null,
            "overflow_y": null,
            "overflow_x": null,
            "grid_auto_flow": null,
            "grid_area": null,
            "grid_template_columns": null,
            "flex": null,
            "_model_name": "LayoutModel",
            "justify_items": null,
            "grid_row": null,
            "max_height": null,
            "align_content": null,
            "visibility": null,
            "align_self": null,
            "height": null,
            "min_height": null,
            "padding": null,
            "grid_auto_rows": null,
            "grid_gap": null,
            "max_width": null,
            "order": null,
            "_view_module_version": "1.2.0",
            "grid_template_areas": null,
            "object_position": null,
            "object_fit": null,
            "grid_auto_columns": null,
            "margin": null,
            "display": null,
            "left": null
          }
        },
        "ead0e615984d4515a2a55c7e425f955a": {
          "model_module": "@jupyter-widgets/controls",
          "model_name": "FloatProgressModel",
          "state": {
            "_view_name": "ProgressView",
            "style": "IPY_MODEL_0ff57d0672244e4d89f80b9036f00162",
            "_dom_classes": [],
            "description": "",
            "_model_name": "FloatProgressModel",
            "bar_style": "success",
            "max": 28881,
            "_view_module": "@jupyter-widgets/controls",
            "_model_module_version": "1.5.0",
            "value": 28881,
            "_view_count": null,
            "_view_module_version": "1.5.0",
            "orientation": "horizontal",
            "min": 0,
            "description_tooltip": null,
            "_model_module": "@jupyter-widgets/controls",
            "layout": "IPY_MODEL_a484324a26f741888b11e5bf84c828f3"
          }
        },
        "22094f2550e047528c391b00e8a02f70": {
          "model_module": "@jupyter-widgets/controls",
          "model_name": "HTMLModel",
          "state": {
            "_view_name": "HTMLView",
            "style": "IPY_MODEL_74f06389ce584f33bcbea88928ff0423",
            "_dom_classes": [],
            "description": "",
            "_model_name": "HTMLModel",
            "placeholder": "​",
            "_view_module": "@jupyter-widgets/controls",
            "_model_module_version": "1.5.0",
            "value": " 29696/? [00:04&lt;00:00, 6988.30it/s]",
            "_view_count": null,
            "_view_module_version": "1.5.0",
            "description_tooltip": null,
            "_model_module": "@jupyter-widgets/controls",
            "layout": "IPY_MODEL_88e091c1b99e4a51825f75fe5eb5ccff"
          }
        },
        "0ff57d0672244e4d89f80b9036f00162": {
          "model_module": "@jupyter-widgets/controls",
          "model_name": "ProgressStyleModel",
          "state": {
            "_view_name": "StyleView",
            "_model_name": "ProgressStyleModel",
            "description_width": "initial",
            "_view_module": "@jupyter-widgets/base",
            "_model_module_version": "1.5.0",
            "_view_count": null,
            "_view_module_version": "1.2.0",
            "bar_color": null,
            "_model_module": "@jupyter-widgets/controls"
          }
        },
        "a484324a26f741888b11e5bf84c828f3": {
          "model_module": "@jupyter-widgets/base",
          "model_name": "LayoutModel",
          "state": {
            "_view_name": "LayoutView",
            "grid_template_rows": null,
            "right": null,
            "justify_content": null,
            "_view_module": "@jupyter-widgets/base",
            "overflow": null,
            "_model_module_version": "1.2.0",
            "_view_count": null,
            "flex_flow": null,
            "width": null,
            "min_width": null,
            "border": null,
            "align_items": null,
            "bottom": null,
            "_model_module": "@jupyter-widgets/base",
            "top": null,
            "grid_column": null,
            "overflow_y": null,
            "overflow_x": null,
            "grid_auto_flow": null,
            "grid_area": null,
            "grid_template_columns": null,
            "flex": null,
            "_model_name": "LayoutModel",
            "justify_items": null,
            "grid_row": null,
            "max_height": null,
            "align_content": null,
            "visibility": null,
            "align_self": null,
            "height": null,
            "min_height": null,
            "padding": null,
            "grid_auto_rows": null,
            "grid_gap": null,
            "max_width": null,
            "order": null,
            "_view_module_version": "1.2.0",
            "grid_template_areas": null,
            "object_position": null,
            "object_fit": null,
            "grid_auto_columns": null,
            "margin": null,
            "display": null,
            "left": null
          }
        },
        "74f06389ce584f33bcbea88928ff0423": {
          "model_module": "@jupyter-widgets/controls",
          "model_name": "DescriptionStyleModel",
          "state": {
            "_view_name": "StyleView",
            "_model_name": "DescriptionStyleModel",
            "description_width": "",
            "_view_module": "@jupyter-widgets/base",
            "_model_module_version": "1.5.0",
            "_view_count": null,
            "_view_module_version": "1.2.0",
            "_model_module": "@jupyter-widgets/controls"
          }
        },
        "88e091c1b99e4a51825f75fe5eb5ccff": {
          "model_module": "@jupyter-widgets/base",
          "model_name": "LayoutModel",
          "state": {
            "_view_name": "LayoutView",
            "grid_template_rows": null,
            "right": null,
            "justify_content": null,
            "_view_module": "@jupyter-widgets/base",
            "overflow": null,
            "_model_module_version": "1.2.0",
            "_view_count": null,
            "flex_flow": null,
            "width": null,
            "min_width": null,
            "border": null,
            "align_items": null,
            "bottom": null,
            "_model_module": "@jupyter-widgets/base",
            "top": null,
            "grid_column": null,
            "overflow_y": null,
            "overflow_x": null,
            "grid_auto_flow": null,
            "grid_area": null,
            "grid_template_columns": null,
            "flex": null,
            "_model_name": "LayoutModel",
            "justify_items": null,
            "grid_row": null,
            "max_height": null,
            "align_content": null,
            "visibility": null,
            "align_self": null,
            "height": null,
            "min_height": null,
            "padding": null,
            "grid_auto_rows": null,
            "grid_gap": null,
            "max_width": null,
            "order": null,
            "_view_module_version": "1.2.0",
            "grid_template_areas": null,
            "object_position": null,
            "object_fit": null,
            "grid_auto_columns": null,
            "margin": null,
            "display": null,
            "left": null
          }
        },
        "cf6492b795ac4c2a9fff70da3e2cabe6": {
          "model_module": "@jupyter-widgets/controls",
          "model_name": "HBoxModel",
          "state": {
            "_view_name": "HBoxView",
            "_dom_classes": [],
            "_model_name": "HBoxModel",
            "_view_module": "@jupyter-widgets/controls",
            "_model_module_version": "1.5.0",
            "_view_count": null,
            "_view_module_version": "1.5.0",
            "box_style": "",
            "layout": "IPY_MODEL_63b56710d3e244c9b25cfdaedf14c232",
            "_model_module": "@jupyter-widgets/controls",
            "children": [
              "IPY_MODEL_341d30d1dbe14a7c8aed4eb971df53e8",
              "IPY_MODEL_515ad93a54dd4e168c5698184f9d8df4"
            ]
          }
        },
        "63b56710d3e244c9b25cfdaedf14c232": {
          "model_module": "@jupyter-widgets/base",
          "model_name": "LayoutModel",
          "state": {
            "_view_name": "LayoutView",
            "grid_template_rows": null,
            "right": null,
            "justify_content": null,
            "_view_module": "@jupyter-widgets/base",
            "overflow": null,
            "_model_module_version": "1.2.0",
            "_view_count": null,
            "flex_flow": null,
            "width": null,
            "min_width": null,
            "border": null,
            "align_items": null,
            "bottom": null,
            "_model_module": "@jupyter-widgets/base",
            "top": null,
            "grid_column": null,
            "overflow_y": null,
            "overflow_x": null,
            "grid_auto_flow": null,
            "grid_area": null,
            "grid_template_columns": null,
            "flex": null,
            "_model_name": "LayoutModel",
            "justify_items": null,
            "grid_row": null,
            "max_height": null,
            "align_content": null,
            "visibility": null,
            "align_self": null,
            "height": null,
            "min_height": null,
            "padding": null,
            "grid_auto_rows": null,
            "grid_gap": null,
            "max_width": null,
            "order": null,
            "_view_module_version": "1.2.0",
            "grid_template_areas": null,
            "object_position": null,
            "object_fit": null,
            "grid_auto_columns": null,
            "margin": null,
            "display": null,
            "left": null
          }
        },
        "341d30d1dbe14a7c8aed4eb971df53e8": {
          "model_module": "@jupyter-widgets/controls",
          "model_name": "FloatProgressModel",
          "state": {
            "_view_name": "ProgressView",
            "style": "IPY_MODEL_d7c69a761b40497a90304766559fccc9",
            "_dom_classes": [],
            "description": "",
            "_model_name": "FloatProgressModel",
            "bar_style": "success",
            "max": 1648877,
            "_view_module": "@jupyter-widgets/controls",
            "_model_module_version": "1.5.0",
            "value": 1648877,
            "_view_count": null,
            "_view_module_version": "1.5.0",
            "orientation": "horizontal",
            "min": 0,
            "description_tooltip": null,
            "_model_module": "@jupyter-widgets/controls",
            "layout": "IPY_MODEL_124f1fd998df4980b939a86ecca11ece"
          }
        },
        "515ad93a54dd4e168c5698184f9d8df4": {
          "model_module": "@jupyter-widgets/controls",
          "model_name": "HTMLModel",
          "state": {
            "_view_name": "HTMLView",
            "style": "IPY_MODEL_f98ac22a8b6748ae9be0f4e5d2e45f22",
            "_dom_classes": [],
            "description": "",
            "_model_name": "HTMLModel",
            "placeholder": "​",
            "_view_module": "@jupyter-widgets/controls",
            "_model_module_version": "1.5.0",
            "value": " 1649664/? [00:02&lt;00:00, 766035.29it/s]",
            "_view_count": null,
            "_view_module_version": "1.5.0",
            "description_tooltip": null,
            "_model_module": "@jupyter-widgets/controls",
            "layout": "IPY_MODEL_b91d0b1849ad4230919aea48d0d3f499"
          }
        },
        "d7c69a761b40497a90304766559fccc9": {
          "model_module": "@jupyter-widgets/controls",
          "model_name": "ProgressStyleModel",
          "state": {
            "_view_name": "StyleView",
            "_model_name": "ProgressStyleModel",
            "description_width": "initial",
            "_view_module": "@jupyter-widgets/base",
            "_model_module_version": "1.5.0",
            "_view_count": null,
            "_view_module_version": "1.2.0",
            "bar_color": null,
            "_model_module": "@jupyter-widgets/controls"
          }
        },
        "124f1fd998df4980b939a86ecca11ece": {
          "model_module": "@jupyter-widgets/base",
          "model_name": "LayoutModel",
          "state": {
            "_view_name": "LayoutView",
            "grid_template_rows": null,
            "right": null,
            "justify_content": null,
            "_view_module": "@jupyter-widgets/base",
            "overflow": null,
            "_model_module_version": "1.2.0",
            "_view_count": null,
            "flex_flow": null,
            "width": null,
            "min_width": null,
            "border": null,
            "align_items": null,
            "bottom": null,
            "_model_module": "@jupyter-widgets/base",
            "top": null,
            "grid_column": null,
            "overflow_y": null,
            "overflow_x": null,
            "grid_auto_flow": null,
            "grid_area": null,
            "grid_template_columns": null,
            "flex": null,
            "_model_name": "LayoutModel",
            "justify_items": null,
            "grid_row": null,
            "max_height": null,
            "align_content": null,
            "visibility": null,
            "align_self": null,
            "height": null,
            "min_height": null,
            "padding": null,
            "grid_auto_rows": null,
            "grid_gap": null,
            "max_width": null,
            "order": null,
            "_view_module_version": "1.2.0",
            "grid_template_areas": null,
            "object_position": null,
            "object_fit": null,
            "grid_auto_columns": null,
            "margin": null,
            "display": null,
            "left": null
          }
        },
        "f98ac22a8b6748ae9be0f4e5d2e45f22": {
          "model_module": "@jupyter-widgets/controls",
          "model_name": "DescriptionStyleModel",
          "state": {
            "_view_name": "StyleView",
            "_model_name": "DescriptionStyleModel",
            "description_width": "",
            "_view_module": "@jupyter-widgets/base",
            "_model_module_version": "1.5.0",
            "_view_count": null,
            "_view_module_version": "1.2.0",
            "_model_module": "@jupyter-widgets/controls"
          }
        },
        "b91d0b1849ad4230919aea48d0d3f499": {
          "model_module": "@jupyter-widgets/base",
          "model_name": "LayoutModel",
          "state": {
            "_view_name": "LayoutView",
            "grid_template_rows": null,
            "right": null,
            "justify_content": null,
            "_view_module": "@jupyter-widgets/base",
            "overflow": null,
            "_model_module_version": "1.2.0",
            "_view_count": null,
            "flex_flow": null,
            "width": null,
            "min_width": null,
            "border": null,
            "align_items": null,
            "bottom": null,
            "_model_module": "@jupyter-widgets/base",
            "top": null,
            "grid_column": null,
            "overflow_y": null,
            "overflow_x": null,
            "grid_auto_flow": null,
            "grid_area": null,
            "grid_template_columns": null,
            "flex": null,
            "_model_name": "LayoutModel",
            "justify_items": null,
            "grid_row": null,
            "max_height": null,
            "align_content": null,
            "visibility": null,
            "align_self": null,
            "height": null,
            "min_height": null,
            "padding": null,
            "grid_auto_rows": null,
            "grid_gap": null,
            "max_width": null,
            "order": null,
            "_view_module_version": "1.2.0",
            "grid_template_areas": null,
            "object_position": null,
            "object_fit": null,
            "grid_auto_columns": null,
            "margin": null,
            "display": null,
            "left": null
          }
        },
        "ed34881722284b0ab7fed772e4f95e4a": {
          "model_module": "@jupyter-widgets/controls",
          "model_name": "HBoxModel",
          "state": {
            "_view_name": "HBoxView",
            "_dom_classes": [],
            "_model_name": "HBoxModel",
            "_view_module": "@jupyter-widgets/controls",
            "_model_module_version": "1.5.0",
            "_view_count": null,
            "_view_module_version": "1.5.0",
            "box_style": "",
            "layout": "IPY_MODEL_017619d37956492e91fc568dadac0969",
            "_model_module": "@jupyter-widgets/controls",
            "children": [
              "IPY_MODEL_f215adb5966844c399a8e9d6a5400a6e",
              "IPY_MODEL_9e1d36aefa3a4e10a6db8b472eba7718"
            ]
          }
        },
        "017619d37956492e91fc568dadac0969": {
          "model_module": "@jupyter-widgets/base",
          "model_name": "LayoutModel",
          "state": {
            "_view_name": "LayoutView",
            "grid_template_rows": null,
            "right": null,
            "justify_content": null,
            "_view_module": "@jupyter-widgets/base",
            "overflow": null,
            "_model_module_version": "1.2.0",
            "_view_count": null,
            "flex_flow": null,
            "width": null,
            "min_width": null,
            "border": null,
            "align_items": null,
            "bottom": null,
            "_model_module": "@jupyter-widgets/base",
            "top": null,
            "grid_column": null,
            "overflow_y": null,
            "overflow_x": null,
            "grid_auto_flow": null,
            "grid_area": null,
            "grid_template_columns": null,
            "flex": null,
            "_model_name": "LayoutModel",
            "justify_items": null,
            "grid_row": null,
            "max_height": null,
            "align_content": null,
            "visibility": null,
            "align_self": null,
            "height": null,
            "min_height": null,
            "padding": null,
            "grid_auto_rows": null,
            "grid_gap": null,
            "max_width": null,
            "order": null,
            "_view_module_version": "1.2.0",
            "grid_template_areas": null,
            "object_position": null,
            "object_fit": null,
            "grid_auto_columns": null,
            "margin": null,
            "display": null,
            "left": null
          }
        },
        "f215adb5966844c399a8e9d6a5400a6e": {
          "model_module": "@jupyter-widgets/controls",
          "model_name": "FloatProgressModel",
          "state": {
            "_view_name": "ProgressView",
            "style": "IPY_MODEL_894e49ec37f341c0a1e18de7fd914040",
            "_dom_classes": [],
            "description": "",
            "_model_name": "FloatProgressModel",
            "bar_style": "success",
            "max": 4542,
            "_view_module": "@jupyter-widgets/controls",
            "_model_module_version": "1.5.0",
            "value": 4542,
            "_view_count": null,
            "_view_module_version": "1.5.0",
            "orientation": "horizontal",
            "min": 0,
            "description_tooltip": null,
            "_model_module": "@jupyter-widgets/controls",
            "layout": "IPY_MODEL_fd82dec6033e4e218df4f8024d85c237"
          }
        },
        "9e1d36aefa3a4e10a6db8b472eba7718": {
          "model_module": "@jupyter-widgets/controls",
          "model_name": "HTMLModel",
          "state": {
            "_view_name": "HTMLView",
            "style": "IPY_MODEL_cd0d5c6c0d664dbdbc6e9ff78e44231b",
            "_dom_classes": [],
            "description": "",
            "_model_name": "HTMLModel",
            "placeholder": "​",
            "_view_module": "@jupyter-widgets/controls",
            "_model_module_version": "1.5.0",
            "value": " 5120/? [03:51&lt;00:00, 22.07it/s]",
            "_view_count": null,
            "_view_module_version": "1.5.0",
            "description_tooltip": null,
            "_model_module": "@jupyter-widgets/controls",
            "layout": "IPY_MODEL_ffe434c7cd874995931018a92193db82"
          }
        },
        "894e49ec37f341c0a1e18de7fd914040": {
          "model_module": "@jupyter-widgets/controls",
          "model_name": "ProgressStyleModel",
          "state": {
            "_view_name": "StyleView",
            "_model_name": "ProgressStyleModel",
            "description_width": "initial",
            "_view_module": "@jupyter-widgets/base",
            "_model_module_version": "1.5.0",
            "_view_count": null,
            "_view_module_version": "1.2.0",
            "bar_color": null,
            "_model_module": "@jupyter-widgets/controls"
          }
        },
        "fd82dec6033e4e218df4f8024d85c237": {
          "model_module": "@jupyter-widgets/base",
          "model_name": "LayoutModel",
          "state": {
            "_view_name": "LayoutView",
            "grid_template_rows": null,
            "right": null,
            "justify_content": null,
            "_view_module": "@jupyter-widgets/base",
            "overflow": null,
            "_model_module_version": "1.2.0",
            "_view_count": null,
            "flex_flow": null,
            "width": null,
            "min_width": null,
            "border": null,
            "align_items": null,
            "bottom": null,
            "_model_module": "@jupyter-widgets/base",
            "top": null,
            "grid_column": null,
            "overflow_y": null,
            "overflow_x": null,
            "grid_auto_flow": null,
            "grid_area": null,
            "grid_template_columns": null,
            "flex": null,
            "_model_name": "LayoutModel",
            "justify_items": null,
            "grid_row": null,
            "max_height": null,
            "align_content": null,
            "visibility": null,
            "align_self": null,
            "height": null,
            "min_height": null,
            "padding": null,
            "grid_auto_rows": null,
            "grid_gap": null,
            "max_width": null,
            "order": null,
            "_view_module_version": "1.2.0",
            "grid_template_areas": null,
            "object_position": null,
            "object_fit": null,
            "grid_auto_columns": null,
            "margin": null,
            "display": null,
            "left": null
          }
        },
        "cd0d5c6c0d664dbdbc6e9ff78e44231b": {
          "model_module": "@jupyter-widgets/controls",
          "model_name": "DescriptionStyleModel",
          "state": {
            "_view_name": "StyleView",
            "_model_name": "DescriptionStyleModel",
            "description_width": "",
            "_view_module": "@jupyter-widgets/base",
            "_model_module_version": "1.5.0",
            "_view_count": null,
            "_view_module_version": "1.2.0",
            "_model_module": "@jupyter-widgets/controls"
          }
        },
        "ffe434c7cd874995931018a92193db82": {
          "model_module": "@jupyter-widgets/base",
          "model_name": "LayoutModel",
          "state": {
            "_view_name": "LayoutView",
            "grid_template_rows": null,
            "right": null,
            "justify_content": null,
            "_view_module": "@jupyter-widgets/base",
            "overflow": null,
            "_model_module_version": "1.2.0",
            "_view_count": null,
            "flex_flow": null,
            "width": null,
            "min_width": null,
            "border": null,
            "align_items": null,
            "bottom": null,
            "_model_module": "@jupyter-widgets/base",
            "top": null,
            "grid_column": null,
            "overflow_y": null,
            "overflow_x": null,
            "grid_auto_flow": null,
            "grid_area": null,
            "grid_template_columns": null,
            "flex": null,
            "_model_name": "LayoutModel",
            "justify_items": null,
            "grid_row": null,
            "max_height": null,
            "align_content": null,
            "visibility": null,
            "align_self": null,
            "height": null,
            "min_height": null,
            "padding": null,
            "grid_auto_rows": null,
            "grid_gap": null,
            "max_width": null,
            "order": null,
            "_view_module_version": "1.2.0",
            "grid_template_areas": null,
            "object_position": null,
            "object_fit": null,
            "grid_auto_columns": null,
            "margin": null,
            "display": null,
            "left": null
          }
        }
      }
    }
  },
  "cells": [
    {
      "cell_type": "markdown",
      "metadata": {
        "id": "view-in-github",
        "colab_type": "text"
      },
      "source": [
        "<a href=\"https://colab.research.google.com/github/MrDevCop/Quantization/blob/main/Quantization.ipynb\" target=\"_parent\"><img src=\"https://colab.research.google.com/assets/colab-badge.svg\" alt=\"Open In Colab\"/></a>"
      ]
    },
    {
      "cell_type": "markdown",
      "metadata": {
        "id": "EZtTshKerZIW"
      },
      "source": [
        "#Quantization & De-quantization"
      ]
    },
    {
      "cell_type": "markdown",
      "metadata": {
        "id": "cduhorRurt2B"
      },
      "source": [
        "\n",
        "\n",
        "What is quantization?\n",
        "\n",
        " \n",
        "\n",
        "1.   It means given a range of values,  𝑋={𝑥1,𝑥2,…𝑥𝑛}  and a desired precision of 𝑘  bits.\n",
        "2.   Find the minimum and maximum values of X,  𝑥𝑚𝑎𝑥  and  𝑥𝑚𝑖𝑛 .\n",
        "3.   Find the minimum and maximum value of the bits, namely  𝑞𝑚𝑖𝑛=0  and  𝑞𝑚𝑎𝑥=2𝑘−1 .\n",
        "4.   Set  𝑠𝑐𝑎𝑙𝑒=(𝑥𝑚𝑎𝑥−𝑥𝑚𝑖𝑛)/𝑞𝑚𝑎𝑥 .\n",
        "5.   Note that besides scaling, we also have to consider the bias , or what  0  will map to. Set  𝑧𝑒𝑟𝑜𝑝𝑜𝑖𝑛𝑡  as follows:\n",
        "\n",
        "     a. If  𝑥𝑚𝑖𝑛≥0 ,  𝑧𝑒𝑟𝑜𝑝𝑜𝑖𝑛𝑡=0  \\ b. Else if  𝑥𝑚𝑎𝑥<0        𝑧𝑒𝑟𝑜𝑝𝑜𝑖𝑛𝑡=𝑞𝑚𝑎𝑥 .\n",
        "c. Else  𝑧𝑒𝑟𝑜𝑝𝑜𝑖𝑛𝑡=−𝑥𝑚𝑖𝑛/𝑠𝑐𝑎𝑙𝑒 . \\ d. https://docs.openvinotoolkit.org/latest/pot_compression_algorithms_quantization_README.html\n",
        "\n",
        "\n",
        "\n",
        "\n",
        "6.   The formula for quantization of  𝑥  then becomes:  \n",
        "𝑄(𝑥,𝑏𝑖𝑡𝑠)=𝑟𝑜𝑢𝑛𝑑(𝑥𝑠𝑐𝑎𝑙𝑒+𝑧𝑒𝑟𝑜𝑝𝑜𝑖𝑛𝑡) .\n",
        "7.   The formula to dequantize becomes:  \n",
        "𝐷𝑄(𝑥,𝑠𝑐𝑎𝑙𝑒,𝑧𝑒𝑟𝑜𝑝𝑜𝑖𝑛𝑡,𝑛𝑢𝑚−𝑏𝑖𝑡𝑠)=𝑠𝑐𝑎𝑙𝑒∗(𝑓𝑙𝑜𝑎(𝑥)−𝑧𝑒𝑟𝑜𝑝𝑜𝑖𝑛𝑡) .\n",
        "\n",
        "\n",
        "\n",
        "\n",
        "\n",
        "\n",
        "\n",
        "\n",
        "\n"
      ]
    },
    {
      "cell_type": "markdown",
      "metadata": {
        "id": "K9DhHu_ktec9"
      },
      "source": [
        "We work through a quick example. Consider the values 𝑋=[1,3,4,14], 𝑘=4. \\ Then 𝑞𝑚𝑎𝑥=15 and 𝑠𝑐𝑎𝑙𝑒=13/15. 𝑧𝑒𝑟𝑜𝑝𝑜𝑖𝑛𝑡=0. \\ The quantization becomes: 𝑟𝑜𝑢𝑛𝑑([0,30/13,45/13,195/13])=[0,2,3,15].\n",
        "\n",
        "The dequantization becomes 1315∗([0,2,3,15])=[0,1.733,2.6,13].\n",
        "\n"
      ]
    },
    {
      "cell_type": "code",
      "metadata": {
        "id": "zJhl6qVZQuzc"
      },
      "source": [
        "import torch\n",
        "import numpy as np\n",
        "import matplotlib.pyplot as plt\n",
        "import tensorflow as tf\n",
        "from collections import namedtuple\n",
        "from torch import tensor\n",
        "\n",
        "QTensor = namedtuple('QTensor', ['tensor', 'scale', 'zero_point'])"
      ],
      "execution_count": 3,
      "outputs": []
    },
    {
      "cell_type": "code",
      "metadata": {
        "id": "qI_y7qufQ-0x"
      },
      "source": [
        "def calcScaleZeroPoint(min_val, max_val, num_bits):\n",
        "    \n",
        "    qmax = 2**num_bits - 1\n",
        "    scale = (max_val - min_val)/qmax\n",
        "    \n",
        "    if min_val >=0:\n",
        "        zero_point = 0\n",
        "    elif max_val < 0:\n",
        "        zero_point = qmax\n",
        "    else:\n",
        "        zero_point = -min_val/scale\n",
        "    \n",
        "    \n",
        "        \n",
        "    return (scale, zero_point)    \n",
        "  #pass\n",
        "  # Return scale and zero point.\n",
        "  # Use formulas 3 and 4 above.\n",
        "\n",
        "def quantize_tensor(float_x: tensor, num_bits: int):\n",
        "    \n",
        "    maximum = torch.max(float_x)\n",
        "    minimum = torch.min(float_x)\n",
        "    scale , zeropoint = calcScaleZeroPoint(minimum, maximum, num_bits)\n",
        "\n",
        "    q_tensor = (float_x/scale) + zeropoint\n",
        "    q_tensor = q_tensor.clamp_(minimum, maximum)\n",
        "    q_tensor = torch.round(q_tensor)\n",
        "    q_tensor = q_tensor.float()\n",
        "    \n",
        "    #QTensor = namedtuple('QTensor', ['tensor', 'scale', 'zero_point'])\n",
        "    Q_T = QTensor(q_tensor, scale, zeropoint)\n",
        "    \n",
        "    return (Q_T)\n",
        "  #pass\n",
        "  # Return a QTensor tuple, with the quantized tensor, scale and zero point as described above.\n",
        "  # Use calcScaleZeroPoint and formula 6 above.\n",
        "\n",
        "\n",
        "def dequantize_tensor(quantized_x: tensor, scale: float, zero_point: float):\n",
        "    \n",
        "    dq_tensor = scale * (quantized_x.float() - zero_point)\n",
        "    return (dq_tensor)\n",
        "#  pass\n",
        "  # Return float_tensor. "
      ],
      "execution_count": 10,
      "outputs": []
    },
    {
      "cell_type": "markdown",
      "metadata": {
        "id": "lqd-XudED06l"
      },
      "source": [
        "Verification of `quantize_tensor` and `dequantize_tensor`"
      ]
    },
    {
      "cell_type": "code",
      "metadata": {
        "colab": {
          "base_uri": "https://localhost:8080/"
        },
        "id": "yvT-DOdMtuk6",
        "outputId": "b1f5587c-f88b-4aef-fd93-709aaeb4c4c3"
      },
      "source": [
        "# Defining a random tensor\n",
        "a = torch.tensor([2,0.9,41,52])\n",
        "\n",
        "# Checking quantize_tensor function\n",
        "tup = quantize_tensor(a,4)\n",
        "tup.tensor"
      ],
      "execution_count": 5,
      "outputs": [
        {
          "output_type": "execute_result",
          "data": {
            "text/plain": [
              "tensor([ 1.,  1., 12., 15.])"
            ]
          },
          "metadata": {
            "tags": []
          },
          "execution_count": 5
        }
      ]
    },
    {
      "cell_type": "code",
      "metadata": {
        "colab": {
          "base_uri": "https://localhost:8080/"
        },
        "id": "B8Xo_0FluuVc",
        "outputId": "e3b57940-319f-4005-9637-266dfba87907"
      },
      "source": [
        "tup.scale"
      ],
      "execution_count": 6,
      "outputs": [
        {
          "output_type": "execute_result",
          "data": {
            "text/plain": [
              "tensor(3.4067)"
            ]
          },
          "metadata": {
            "tags": []
          },
          "execution_count": 6
        }
      ]
    },
    {
      "cell_type": "code",
      "metadata": {
        "colab": {
          "base_uri": "https://localhost:8080/"
        },
        "id": "B5HmYbnxESTZ",
        "outputId": "6a5a0729-d5fc-4824-ef48-8ac04348e295"
      },
      "source": [
        "tup.zero_point"
      ],
      "execution_count": 7,
      "outputs": [
        {
          "output_type": "execute_result",
          "data": {
            "text/plain": [
              "0"
            ]
          },
          "metadata": {
            "tags": []
          },
          "execution_count": 7
        }
      ]
    },
    {
      "cell_type": "code",
      "metadata": {
        "colab": {
          "base_uri": "https://localhost:8080/"
        },
        "id": "JR0AaZBPucSR",
        "outputId": "59b8a268-3152-4e97-b192-171f675feddf"
      },
      "source": [
        "# Checking dequantize_tensor function\n",
        "d_a = dequantize_tensor(tup.tensor, tup.scale, tup.zero_point)\n",
        "d_a"
      ],
      "execution_count": 9,
      "outputs": [
        {
          "output_type": "execute_result",
          "data": {
            "text/plain": [
              "tensor([ 3.4067,  3.4067, 40.8800, 51.1000])"
            ]
          },
          "metadata": {
            "tags": []
          },
          "execution_count": 9
        }
      ]
    },
    {
      "cell_type": "markdown",
      "metadata": {
        "id": "BAcSeAasfkTS"
      },
      "source": [
        "MNIST\n",
        "\n",
        "We now train a basic MNIST model. "
      ]
    },
    {
      "cell_type": "code",
      "metadata": {
        "id": "UuthHEA0fixZ"
      },
      "source": [
        "# You don't need to edit any of this code.\n",
        "from __future__ import print_function\n",
        "import argparse\n",
        "import torch\n",
        "import torch.nn as nn\n",
        "import torch.nn.functional as F\n",
        "import torch.optim as optim\n",
        "from torchvision import datasets, transforms\n",
        "\n",
        "\n",
        "class Net(nn.Module):\n",
        "    def __init__(self, mnist=True):\n",
        "      \n",
        "        super(Net, self).__init__()\n",
        "        if mnist:\n",
        "          num_channels = 1\n",
        "        else:\n",
        "          num_channels = 3\n",
        "          \n",
        "        self.conv1 = nn.Conv2d(num_channels, 20, 5, 1)\n",
        "        self.conv2 = nn.Conv2d(20, 50, 5, 1)\n",
        "        self.fc1 = nn.Linear(4*4*50, 500)\n",
        "        self.fc2 = nn.Linear(500, 10)\n",
        "        \n",
        "      \n",
        "    def forward(self, x):\n",
        "        \n",
        "        x = F.relu(self.conv1(x))\n",
        "        x = F.max_pool2d(x, 2, 2)\n",
        "        x = F.relu(self.conv2(x))\n",
        "        x = F.max_pool2d(x, 2, 2)  \n",
        "        x = x.view(-1, 4*4*50)\n",
        "        x = F.relu(self.fc1(x))\n",
        "        x = self.fc2(x)\n",
        "        return F.log_softmax(x, dim=1)"
      ],
      "execution_count": 11,
      "outputs": []
    },
    {
      "cell_type": "code",
      "metadata": {
        "colab": {
          "base_uri": "https://localhost:8080/",
          "height": 1000,
          "referenced_widgets": [
            "563a1bdf20034087834874955911930c",
            "5d4db3fb423247e3a25079c24b01bddf",
            "4f5e6a2c64554dffb3d990ce47400b62",
            "44e8d4d40f8b468aa9dcc36f1a832200",
            "3cbca58d1c574a6f8e604617fa0b0fee",
            "8973fc9c88d6458886c83234ac358800",
            "96701b7d220e4b0a8a84c31f3e72bd3f",
            "0098cbe3accb40d0b55c81312b1d1f10",
            "05efc8b7274441279a8a5aa6cf3c6307",
            "e8437f560d594b6a8785507b14347ea7",
            "ead0e615984d4515a2a55c7e425f955a",
            "22094f2550e047528c391b00e8a02f70",
            "0ff57d0672244e4d89f80b9036f00162",
            "a484324a26f741888b11e5bf84c828f3",
            "74f06389ce584f33bcbea88928ff0423",
            "88e091c1b99e4a51825f75fe5eb5ccff",
            "cf6492b795ac4c2a9fff70da3e2cabe6",
            "63b56710d3e244c9b25cfdaedf14c232",
            "341d30d1dbe14a7c8aed4eb971df53e8",
            "515ad93a54dd4e168c5698184f9d8df4",
            "d7c69a761b40497a90304766559fccc9",
            "124f1fd998df4980b939a86ecca11ece",
            "f98ac22a8b6748ae9be0f4e5d2e45f22",
            "b91d0b1849ad4230919aea48d0d3f499",
            "ed34881722284b0ab7fed772e4f95e4a",
            "017619d37956492e91fc568dadac0969",
            "f215adb5966844c399a8e9d6a5400a6e",
            "9e1d36aefa3a4e10a6db8b472eba7718",
            "894e49ec37f341c0a1e18de7fd914040",
            "fd82dec6033e4e218df4f8024d85c237",
            "cd0d5c6c0d664dbdbc6e9ff78e44231b",
            "ffe434c7cd874995931018a92193db82"
          ]
        },
        "id": "8M-c-V5Vf-MC",
        "outputId": "246eda8c-6e52-422e-f721-6ebc2960ef2d"
      },
      "source": [
        "\n",
        "def train(args, model, device, train_loader, optimizer, epoch):\n",
        "    model.train()\n",
        "    for batch_idx, (data, target) in enumerate(train_loader):\n",
        "        data, target = data.to(device), target.to(device)\n",
        "        optimizer.zero_grad()\n",
        "        output = model(data)\n",
        "        loss = F.nll_loss(output, target)\n",
        "        loss.backward()\n",
        "        optimizer.step()\n",
        "        \n",
        "   \n",
        "        if batch_idx % args[\"log_interval\"] == 0:\n",
        "            print('Train Epoch: {} [{}/{} ({:.0f}%)]\\tLoss: {:.6f}'.format(\n",
        "                epoch, batch_idx * len(data), len(train_loader.dataset),\n",
        "                100. * batch_idx / len(train_loader), loss.item()))\n",
        "\n",
        "def test(args, model, device, test_loader):\n",
        "    model.eval()\n",
        "    test_loss = 0\n",
        "    correct = 0\n",
        "    with torch.no_grad():\n",
        "        for data, target in test_loader:\n",
        "            data, target = data.to(device), target.to(device)\n",
        "            output = model(data)\n",
        "            test_loss += F.nll_loss(output, target, reduction='sum').item() # sum up batch loss\n",
        "            pred = output.argmax(dim=1, keepdim=True) # get the index of the max log-probability\n",
        "            correct += pred.eq(target.view_as(pred)).sum().item()\n",
        "\n",
        "    test_loss /= len(test_loader.dataset)\n",
        "\n",
        "    print('\\nTest set: Average loss: {:.4f}, Accuracy: {}/{} ({:.0f}%)\\n'.format(\n",
        "        test_loss, correct, len(test_loader.dataset),\n",
        "        100. * correct / len(test_loader.dataset)))\n",
        "\n",
        "def main():\n",
        " \n",
        "    batch_size = 64\n",
        "    test_batch_size = 64\n",
        "    epochs = 5\n",
        "    lr = 0.01\n",
        "    momentum = 0.5\n",
        "    seed = 1\n",
        "    log_interval = 500\n",
        "    save_model = False\n",
        "    no_cuda = False\n",
        "    \n",
        "    use_cuda = not no_cuda and torch.cuda.is_available()\n",
        "\n",
        "    torch.manual_seed(seed)\n",
        "\n",
        "    device = torch.device(\"cuda\" if use_cuda else \"cpu\")\n",
        "\n",
        "    kwargs = {'num_workers': 1, 'pin_memory': True} if use_cuda else {}\n",
        "    train_loader = torch.utils.data.DataLoader(\n",
        "        datasets.MNIST('../data', train=True, download=True,\n",
        "                       transform=transforms.Compose([\n",
        "                           transforms.ToTensor(),\n",
        "                           transforms.Normalize((0.1307,), (0.3081,))\n",
        "                       ])),\n",
        "        batch_size=batch_size, shuffle=True, **kwargs)\n",
        "    \n",
        "    test_loader = torch.utils.data.DataLoader(\n",
        "        datasets.MNIST('../data', train=False, transform=transforms.Compose([\n",
        "                           transforms.ToTensor(),\n",
        "                           transforms.Normalize((0.1307,), (0.3081,))\n",
        "                       ])),\n",
        "        batch_size=test_batch_size, shuffle=True, **kwargs)\n",
        "    \n",
        "  \n",
        "    model = Net().to(device)\n",
        "    optimizer = optim.SGD(model.parameters(), lr=lr, momentum=momentum)\n",
        "    args = {}\n",
        "    args[\"log_interval\"] = log_interval\n",
        "    for epoch in range(1, epochs + 1):\n",
        "        train(args, model, device, train_loader, optimizer, epoch)\n",
        "        test(args, model, device, test_loader)\n",
        "\n",
        "    if (save_model):\n",
        "        torch.save(model.state_dict(),\"mnist_cnn.pt\")\n",
        "    \n",
        "    return model\n",
        "\n",
        "model = main()"
      ],
      "execution_count": 12,
      "outputs": [
        {
          "output_type": "stream",
          "text": [
            "Downloading http://yann.lecun.com/exdb/mnist/train-images-idx3-ubyte.gz\n",
            "Downloading http://yann.lecun.com/exdb/mnist/train-images-idx3-ubyte.gz to ../data/MNIST/raw/train-images-idx3-ubyte.gz\n",
            "Failed to download (trying next):\n",
            "HTTP Error 503: Service Unavailable\n",
            "\n",
            "Downloading https://ossci-datasets.s3.amazonaws.com/mnist/train-images-idx3-ubyte.gz\n",
            "Downloading https://ossci-datasets.s3.amazonaws.com/mnist/train-images-idx3-ubyte.gz to ../data/MNIST/raw/train-images-idx3-ubyte.gz\n"
          ],
          "name": "stdout"
        },
        {
          "output_type": "display_data",
          "data": {
            "application/vnd.jupyter.widget-view+json": {
              "model_id": "563a1bdf20034087834874955911930c",
              "version_minor": 0,
              "version_major": 2
            },
            "text/plain": [
              "HBox(children=(FloatProgress(value=0.0, max=9912422.0), HTML(value='')))"
            ]
          },
          "metadata": {
            "tags": []
          }
        },
        {
          "output_type": "stream",
          "text": [
            "\n",
            "Extracting ../data/MNIST/raw/train-images-idx3-ubyte.gz to ../data/MNIST/raw\n",
            "\n",
            "Downloading http://yann.lecun.com/exdb/mnist/train-labels-idx1-ubyte.gz\n",
            "Downloading http://yann.lecun.com/exdb/mnist/train-labels-idx1-ubyte.gz to ../data/MNIST/raw/train-labels-idx1-ubyte.gz\n"
          ],
          "name": "stdout"
        },
        {
          "output_type": "display_data",
          "data": {
            "application/vnd.jupyter.widget-view+json": {
              "model_id": "05efc8b7274441279a8a5aa6cf3c6307",
              "version_minor": 0,
              "version_major": 2
            },
            "text/plain": [
              "HBox(children=(FloatProgress(value=0.0, max=28881.0), HTML(value='')))"
            ]
          },
          "metadata": {
            "tags": []
          }
        },
        {
          "output_type": "stream",
          "text": [
            "\n",
            "Extracting ../data/MNIST/raw/train-labels-idx1-ubyte.gz to ../data/MNIST/raw\n",
            "\n",
            "Downloading http://yann.lecun.com/exdb/mnist/t10k-images-idx3-ubyte.gz\n",
            "Failed to download (trying next):\n",
            "HTTP Error 503: Service Unavailable\n",
            "\n",
            "Downloading https://ossci-datasets.s3.amazonaws.com/mnist/t10k-images-idx3-ubyte.gz\n",
            "Downloading https://ossci-datasets.s3.amazonaws.com/mnist/t10k-images-idx3-ubyte.gz to ../data/MNIST/raw/t10k-images-idx3-ubyte.gz\n"
          ],
          "name": "stdout"
        },
        {
          "output_type": "display_data",
          "data": {
            "application/vnd.jupyter.widget-view+json": {
              "model_id": "cf6492b795ac4c2a9fff70da3e2cabe6",
              "version_minor": 0,
              "version_major": 2
            },
            "text/plain": [
              "HBox(children=(FloatProgress(value=0.0, max=1648877.0), HTML(value='')))"
            ]
          },
          "metadata": {
            "tags": []
          }
        },
        {
          "output_type": "stream",
          "text": [
            "\n",
            "Extracting ../data/MNIST/raw/t10k-images-idx3-ubyte.gz to ../data/MNIST/raw\n",
            "\n",
            "Downloading http://yann.lecun.com/exdb/mnist/t10k-labels-idx1-ubyte.gz\n",
            "Downloading http://yann.lecun.com/exdb/mnist/t10k-labels-idx1-ubyte.gz to ../data/MNIST/raw/t10k-labels-idx1-ubyte.gz\n"
          ],
          "name": "stdout"
        },
        {
          "output_type": "display_data",
          "data": {
            "application/vnd.jupyter.widget-view+json": {
              "model_id": "ed34881722284b0ab7fed772e4f95e4a",
              "version_minor": 0,
              "version_major": 2
            },
            "text/plain": [
              "HBox(children=(FloatProgress(value=0.0, max=4542.0), HTML(value='')))"
            ]
          },
          "metadata": {
            "tags": []
          }
        },
        {
          "output_type": "stream",
          "text": [
            "\n",
            "Extracting ../data/MNIST/raw/t10k-labels-idx1-ubyte.gz to ../data/MNIST/raw\n",
            "\n",
            "Processing...\n",
            "Done!\n"
          ],
          "name": "stdout"
        },
        {
          "output_type": "stream",
          "text": [
            "/usr/local/lib/python3.7/dist-packages/torchvision/datasets/mnist.py:502: UserWarning: The given NumPy array is not writeable, and PyTorch does not support non-writeable tensors. This means you can write to the underlying (supposedly non-writeable) NumPy array using the tensor. You may want to copy the array to protect its data or make it writeable before converting it to a tensor. This type of warning will be suppressed for the rest of this program. (Triggered internally at  /pytorch/torch/csrc/utils/tensor_numpy.cpp:143.)\n",
            "  return torch.from_numpy(parsed.astype(m[2], copy=False)).view(*s)\n"
          ],
          "name": "stderr"
        },
        {
          "output_type": "stream",
          "text": [
            "Train Epoch: 1 [0/60000 (0%)]\tLoss: 2.292215\n",
            "Train Epoch: 1 [32000/60000 (53%)]\tLoss: 0.255719\n",
            "\n",
            "Test set: Average loss: 0.1194, Accuracy: 9627/10000 (96%)\n",
            "\n",
            "Train Epoch: 2 [0/60000 (0%)]\tLoss: 0.132260\n",
            "Train Epoch: 2 [32000/60000 (53%)]\tLoss: 0.055792\n",
            "\n",
            "Test set: Average loss: 0.0755, Accuracy: 9749/10000 (97%)\n",
            "\n",
            "Train Epoch: 3 [0/60000 (0%)]\tLoss: 0.056983\n",
            "Train Epoch: 3 [32000/60000 (53%)]\tLoss: 0.026856\n",
            "\n",
            "Test set: Average loss: 0.0511, Accuracy: 9845/10000 (98%)\n",
            "\n",
            "Train Epoch: 4 [0/60000 (0%)]\tLoss: 0.040046\n",
            "Train Epoch: 4 [32000/60000 (53%)]\tLoss: 0.019234\n",
            "\n",
            "Test set: Average loss: 0.0459, Accuracy: 9837/10000 (98%)\n",
            "\n",
            "Train Epoch: 5 [0/60000 (0%)]\tLoss: 0.023508\n",
            "Train Epoch: 5 [32000/60000 (53%)]\tLoss: 0.009386\n",
            "\n",
            "Test set: Average loss: 0.0323, Accuracy: 9889/10000 (99%)\n",
            "\n"
          ],
          "name": "stdout"
        }
      ]
    },
    {
      "cell_type": "code",
      "metadata": {
        "id": "0rjnP_YlgKLV"
      },
      "source": [
        "# These are driver functions for your code. You do not need to edit.\n",
        "def quantForward(model, input, num_bits):\n",
        "  quantized_input = quantize_tensor(input, num_bits)\n",
        "  output_1  = F.relu(model.conv1(quantized_input.tensor))\n",
        "  output_2 = F.max_pool2d(quantize_tensor(output_1, num_bits).tensor, 2, 2)\n",
        "  output_3 = F.relu(model.conv2(quantize_tensor(output_2, num_bits).tensor))\n",
        "  output_4 = F.max_pool2d(quantize_tensor(output_3, num_bits).tensor, 2, 2)\n",
        "  output_5 = output_4.view(-1, 4*4*50)\n",
        "  output_6 = F.relu(model.fc1(quantize_tensor(output_5, num_bits).tensor))\n",
        "  output_7 = model.fc2(quantize_tensor(output_6, num_bits).tensor)\n",
        "  return F.log_softmax(quantize_tensor(output_7, num_bits).tensor, dim=1)\n",
        "\n",
        "def testQuant(model, test_loader, quant=False, num_bits=8):\n",
        "    device = 'cuda'\n",
        "    \n",
        "    model.eval()\n",
        "    test_loss = 0\n",
        "    correct = 0\n",
        "    with torch.no_grad():\n",
        "        for data, target in test_loader:\n",
        "            data, target = data.to(device), target.to(device)\n",
        "            if quant:\n",
        "              output = quantForward(model, data, num_bits)\n",
        "            else:\n",
        "              output = model(data)\n",
        "            test_loss += F.nll_loss(output, target, reduction='sum').item() # sum up batch loss\n",
        "            pred = output.argmax(dim=1, keepdim=True) # get the index of the max log-probability\n",
        "            correct += pred.eq(target.view_as(pred)).sum().item()\n",
        "\n",
        "    test_loss /= len(test_loader.dataset)\n",
        "\n",
        "    print('\\nTest set: Average loss: {:.4f}, Accuracy: {}/{} ({:.0f}%)\\n'.format(\n",
        "        test_loss, correct, len(test_loader.dataset),\n",
        "        100. * correct / len(test_loader.dataset)))\n",
        "    return (round(100*correct/len(test_loader.dataset)))"
      ],
      "execution_count": 13,
      "outputs": []
    },
    {
      "cell_type": "code",
      "metadata": {
        "id": "jjelU3HjgPxU"
      },
      "source": [
        "kwargs = {'num_workers': 1, 'pin_memory': True}\n",
        "test_loader = torch.utils.data.DataLoader(\n",
        "    datasets.MNIST('../data', train=False, transform=transforms.Compose([\n",
        "                       transforms.ToTensor(),\n",
        "                       transforms.Normalize((0.1307,), (0.3081,))\n",
        "                   ])),\n",
        "    batch_size=64, shuffle=True, **kwargs)"
      ],
      "execution_count": 14,
      "outputs": []
    },
    {
      "cell_type": "code",
      "metadata": {
        "colab": {
          "base_uri": "https://localhost:8080/"
        },
        "id": "-6im_6VdgTgT",
        "outputId": "193d87aa-183a-401f-e26d-65365034514c"
      },
      "source": [
        "acc = testQuant(model, test_loader, quant=True, num_bits=16)\n"
      ],
      "execution_count": 18,
      "outputs": [
        {
          "output_type": "stream",
          "text": [
            "\n",
            "Test set: Average loss: 2.3166, Accuracy: 980/10000 (10%)\n",
            "\n"
          ],
          "name": "stdout"
        }
      ]
    },
    {
      "cell_type": "markdown",
      "metadata": {
        "id": "_IC0GotcLcJz"
      },
      "source": [
        "##Checking the realtion between `number of bits` and `accuracy`"
      ]
    },
    {
      "cell_type": "code",
      "metadata": {
        "colab": {
          "base_uri": "https://localhost:8080/"
        },
        "id": "k5sK8RXelHJ6",
        "outputId": "fa83e0d7-21c8-4d72-98fb-25531e891d24"
      },
      "source": [
        "bits = 16\n",
        "acc_list = []\n",
        "no_bits = []\n",
        "for b in range(bits):\n",
        "  temp =  testQuant(model, test_loader, quant=True, num_bits=b+1)\n",
        "  print(\"\\nNumber of bits are {} and accuracy is {}%\".format(b+1,temp))\n",
        "  no_bits.append(b+1)\n",
        "  acc_list.append(temp)\n",
        "  #eprint(b)"
      ],
      "execution_count": 19,
      "outputs": [
        {
          "output_type": "stream",
          "text": [
            "\n",
            "Test set: Average loss: 2.2356, Accuracy: 1294/10000 (13%)\n",
            "\n",
            "\n",
            "Number of bits are 1 and accuracy is 13%\n",
            "\n",
            "Test set: Average loss: 1.4614, Accuracy: 6828/10000 (68%)\n",
            "\n",
            "\n",
            "Number of bits are 2 and accuracy is 68%\n",
            "\n",
            "Test set: Average loss: 0.6779, Accuracy: 9636/10000 (96%)\n",
            "\n",
            "\n",
            "Number of bits are 3 and accuracy is 96%\n",
            "\n",
            "Test set: Average loss: 0.2353, Accuracy: 9688/10000 (97%)\n",
            "\n",
            "\n",
            "Number of bits are 4 and accuracy is 97%\n",
            "\n",
            "Test set: Average loss: 5.3073, Accuracy: 3241/10000 (32%)\n",
            "\n",
            "\n",
            "Number of bits are 5 and accuracy is 32%\n",
            "\n",
            "Test set: Average loss: 21.5271, Accuracy: 1289/10000 (13%)\n",
            "\n",
            "\n",
            "Number of bits are 6 and accuracy is 13%\n",
            "\n",
            "Test set: Average loss: 49.1244, Accuracy: 1055/10000 (11%)\n",
            "\n",
            "\n",
            "Number of bits are 7 and accuracy is 11%\n",
            "\n",
            "Test set: Average loss: 51.3691, Accuracy: 1215/10000 (12%)\n",
            "\n",
            "\n",
            "Number of bits are 8 and accuracy is 12%\n",
            "\n",
            "Test set: Average loss: 16.0480, Accuracy: 1419/10000 (14%)\n",
            "\n",
            "\n",
            "Number of bits are 9 and accuracy is 14%\n",
            "\n",
            "Test set: Average loss: 3.9928, Accuracy: 1132/10000 (11%)\n",
            "\n",
            "\n",
            "Number of bits are 10 and accuracy is 11%\n",
            "\n",
            "Test set: Average loss: 2.7072, Accuracy: 980/10000 (10%)\n",
            "\n",
            "\n",
            "Number of bits are 11 and accuracy is 10%\n",
            "\n",
            "Test set: Average loss: 2.4369, Accuracy: 980/10000 (10%)\n",
            "\n",
            "\n",
            "Number of bits are 12 and accuracy is 10%\n",
            "\n",
            "Test set: Average loss: 2.3872, Accuracy: 980/10000 (10%)\n",
            "\n",
            "\n",
            "Number of bits are 13 and accuracy is 10%\n",
            "\n",
            "Test set: Average loss: 2.3270, Accuracy: 980/10000 (10%)\n",
            "\n",
            "\n",
            "Number of bits are 14 and accuracy is 10%\n",
            "\n",
            "Test set: Average loss: 2.3232, Accuracy: 980/10000 (10%)\n",
            "\n",
            "\n",
            "Number of bits are 15 and accuracy is 10%\n",
            "\n",
            "Test set: Average loss: 2.3302, Accuracy: 980/10000 (10%)\n",
            "\n",
            "\n",
            "Number of bits are 16 and accuracy is 10%\n"
          ],
          "name": "stdout"
        }
      ]
    },
    {
      "cell_type": "code",
      "metadata": {
        "colab": {
          "base_uri": "https://localhost:8080/"
        },
        "id": "xBL5Y3vzn1nL",
        "outputId": "65e8f719-1c68-4f0b-f63a-3184ef40c4e8"
      },
      "source": [
        "print(acc_list) # Prints a list of accuracy measures for different number of bits\n",
        "print(no_bits) # Prints the number of bits\n"
      ],
      "execution_count": 17,
      "outputs": [
        {
          "output_type": "stream",
          "text": [
            "[14, 67, 96, 97, 33, 13, 11, 12, 14, 11, 10, 10, 10, 10, 10, 10]\n",
            "[1, 2, 3, 4, 5, 6, 7, 8, 9, 10, 11, 12, 13, 14, 15, 16]\n"
          ],
          "name": "stdout"
        }
      ]
    },
    {
      "cell_type": "code",
      "metadata": {
        "colab": {
          "base_uri": "https://localhost:8080/",
          "height": 295
        },
        "id": "FjNoHz44n7c2",
        "outputId": "afe2cb08-de0a-442e-a8a8-8271e888da4f"
      },
      "source": [
        " \n",
        "plt.plot(no_bits, acc_list)\n",
        "  \n",
        "plt.xlabel('Number of Bits')\n",
        "\n",
        "plt.ylabel('Accuracy (%)')\n",
        "  \n",
        "\n",
        "plt.title('No of Bits VS Accuracy')\n",
        "  \n",
        "\n",
        "plt.show()"
      ],
      "execution_count": 18,
      "outputs": [
        {
          "output_type": "display_data",
          "data": {
            "image/png": "[encoded data removed]",
            "text/plain": [
              "<Figure size 432x288 with 1 Axes>"
            ]
          },
          "metadata": {
            "tags": [],
            "needs_background": "light"
          }
        }
      ]
    }
  ]
}